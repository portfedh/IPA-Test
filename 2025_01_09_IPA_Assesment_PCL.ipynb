{
 "cells": [
  {
   "cell_type": "markdown",
   "metadata": {},
   "source": [
    "<a id=\"index\"></a>\n",
    "\n",
    "# IPA Assessment\n",
    "\n",
    "Participant: Pablo Cruz Lemini\n",
    "\n",
    "Create Summary Statistics\n",
    "- [Column 1 table](#column-1-table)\n",
    "- [Column 2 and 3 from the table](#column-23-table)\n",
    "\n",
    "Create Graphs: \n",
    "- [Difference in amount saved at school at endline](#amount-saved-graph)\n",
    "- [Difference in amount saved between control group and treatment](#amount-difference-graph)\n",
    "\n",
    "Models:\n",
    "- [Create a regression model](#regression-model)\n",
    "- [Describe how you would build a machine learning model](#ml-model)\n",
    "\n",
    "Ideas:\n",
    "- [How to provide an ongoing monitoring system of Aflatoun savings](#advice)"
   ]
  },
  {
   "cell_type": "markdown",
   "metadata": {},
   "source": [
    "### Import libraries & Data"
   ]
  },
  {
   "cell_type": "code",
   "execution_count": 1,
   "metadata": {},
   "outputs": [],
   "source": [
    "# Imports\n",
    "import pandas as pd\n",
    "import plotly.graph_objects as go\n"
   ]
  },
  {
   "cell_type": "code",
   "execution_count": 2,
   "metadata": {},
   "outputs": [],
   "source": [
    "# Display full data frame:\n",
    "pd.set_option(\"display.max_columns\", None)\n",
    "pd.set_option(\"display.max_rows\", None,)"
   ]
  },
  {
   "cell_type": "code",
   "execution_count": 3,
   "metadata": {},
   "outputs": [],
   "source": [
    "# Load CSV file\n",
    "df = pd.read_csv('ghana_youth_savings.csv')"
   ]
  },
  {
   "cell_type": "code",
   "execution_count": 4,
   "metadata": {},
   "outputs": [
    {
     "data": {
      "text/html": [
       "<div>\n",
       "<style scoped>\n",
       "    .dataframe tbody tr th:only-of-type {\n",
       "        vertical-align: middle;\n",
       "    }\n",
       "\n",
       "    .dataframe tbody tr th {\n",
       "        vertical-align: top;\n",
       "    }\n",
       "\n",
       "    .dataframe thead th {\n",
       "        text-align: right;\n",
       "    }\n",
       "</style>\n",
       "<table border=\"1\" class=\"dataframe\">\n",
       "  <thead>\n",
       "    <tr style=\"text-align: right;\">\n",
       "      <th></th>\n",
       "      <th>uuid</th>\n",
       "      <th>schid</th>\n",
       "      <th>noattrit</th>\n",
       "      <th>aflatoun</th>\n",
       "      <th>hmb</th>\n",
       "      <th>class</th>\n",
       "      <th>std_avg_class_size</th>\n",
       "      <th>region1</th>\n",
       "      <th>region2</th>\n",
       "      <th>region3</th>\n",
       "      <th>urban</th>\n",
       "      <th>gender</th>\n",
       "      <th>female</th>\n",
       "      <th>age</th>\n",
       "      <th>tribe</th>\n",
       "      <th>hhsize</th>\n",
       "      <th>hhearn</th>\n",
       "      <th>hhbankaccounts</th>\n",
       "      <th>repeated_grade</th>\n",
       "      <th>baseline_save</th>\n",
       "      <th>baseline_saveamt</th>\n",
       "      <th>takeupschool</th>\n",
       "      <th>takeup</th>\n",
       "      <th>end_save</th>\n",
       "      <th>end_saveamt</th>\n",
       "      <th>end_saveschl</th>\n",
       "      <th>end_saveschlamt</th>\n",
       "      <th>asset_index</th>\n",
       "      <th>work_index</th>\n",
       "      <th>riskpref_index</th>\n",
       "      <th>timepref_index</th>\n",
       "      <th>treatment</th>\n",
       "      <th>saving_attitude_index</th>\n",
       "      <th>saving_env_index</th>\n",
       "      <th>fin_lit_index</th>\n",
       "      <th>tempt_index</th>\n",
       "      <th>expend_index</th>\n",
       "      <th>academic_index</th>\n",
       "    </tr>\n",
       "  </thead>\n",
       "  <tbody>\n",
       "    <tr>\n",
       "      <th>0</th>\n",
       "      <td>1011</td>\n",
       "      <td>101</td>\n",
       "      <td>1</td>\n",
       "      <td>1</td>\n",
       "      <td>0</td>\n",
       "      <td>P5</td>\n",
       "      <td>-0.06316</td>\n",
       "      <td>1</td>\n",
       "      <td>0</td>\n",
       "      <td>0</td>\n",
       "      <td>0</td>\n",
       "      <td>Male</td>\n",
       "      <td>0.0</td>\n",
       "      <td>10.0</td>\n",
       "      <td>Akyem</td>\n",
       "      <td>6.0</td>\n",
       "      <td>1.0</td>\n",
       "      <td>0</td>\n",
       "      <td>No</td>\n",
       "      <td>Yes</td>\n",
       "      <td>2.3</td>\n",
       "      <td>0</td>\n",
       "      <td>0</td>\n",
       "      <td>No</td>\n",
       "      <td>0.0</td>\n",
       "      <td>No</td>\n",
       "      <td>0.0</td>\n",
       "      <td>-0.460591</td>\n",
       "      <td>-0.592948</td>\n",
       "      <td>-0.492400</td>\n",
       "      <td>0.790053</td>\n",
       "      <td>1</td>\n",
       "      <td>0.024145</td>\n",
       "      <td>0.222919</td>\n",
       "      <td>0.442896</td>\n",
       "      <td>-0.650386</td>\n",
       "      <td>-0.138709</td>\n",
       "      <td>-0.012530</td>\n",
       "    </tr>\n",
       "    <tr>\n",
       "      <th>1</th>\n",
       "      <td>1012</td>\n",
       "      <td>101</td>\n",
       "      <td>1</td>\n",
       "      <td>1</td>\n",
       "      <td>0</td>\n",
       "      <td>P5</td>\n",
       "      <td>-0.06316</td>\n",
       "      <td>1</td>\n",
       "      <td>0</td>\n",
       "      <td>0</td>\n",
       "      <td>0</td>\n",
       "      <td>Male</td>\n",
       "      <td>0.0</td>\n",
       "      <td>12.0</td>\n",
       "      <td>Other</td>\n",
       "      <td>7.0</td>\n",
       "      <td>2.0</td>\n",
       "      <td>0</td>\n",
       "      <td>No</td>\n",
       "      <td>No</td>\n",
       "      <td>0.0</td>\n",
       "      <td>0</td>\n",
       "      <td>0</td>\n",
       "      <td>Yes</td>\n",
       "      <td>1.4</td>\n",
       "      <td>No</td>\n",
       "      <td>0.0</td>\n",
       "      <td>-0.338644</td>\n",
       "      <td>-0.592948</td>\n",
       "      <td>2.029718</td>\n",
       "      <td>-1.265019</td>\n",
       "      <td>1</td>\n",
       "      <td>0.024145</td>\n",
       "      <td>-0.222388</td>\n",
       "      <td>1.256745</td>\n",
       "      <td>0.114838</td>\n",
       "      <td>-0.058629</td>\n",
       "      <td>-0.765385</td>\n",
       "    </tr>\n",
       "    <tr>\n",
       "      <th>2</th>\n",
       "      <td>1013</td>\n",
       "      <td>101</td>\n",
       "      <td>1</td>\n",
       "      <td>1</td>\n",
       "      <td>0</td>\n",
       "      <td>P5</td>\n",
       "      <td>-0.06316</td>\n",
       "      <td>1</td>\n",
       "      <td>0</td>\n",
       "      <td>0</td>\n",
       "      <td>0</td>\n",
       "      <td>Male</td>\n",
       "      <td>0.0</td>\n",
       "      <td>13.0</td>\n",
       "      <td>Fanti</td>\n",
       "      <td>3.0</td>\n",
       "      <td>1.0</td>\n",
       "      <td>0</td>\n",
       "      <td>No</td>\n",
       "      <td>No</td>\n",
       "      <td>0.0</td>\n",
       "      <td>0</td>\n",
       "      <td>0</td>\n",
       "      <td>No</td>\n",
       "      <td>0.0</td>\n",
       "      <td>No</td>\n",
       "      <td>0.0</td>\n",
       "      <td>-1.229701</td>\n",
       "      <td>3.404489</td>\n",
       "      <td>-0.492400</td>\n",
       "      <td>0.790053</td>\n",
       "      <td>1</td>\n",
       "      <td>0.024145</td>\n",
       "      <td>-0.667696</td>\n",
       "      <td>-1.069514</td>\n",
       "      <td>-0.650386</td>\n",
       "      <td>1.871038</td>\n",
       "      <td>-1.827975</td>\n",
       "    </tr>\n",
       "    <tr>\n",
       "      <th>3</th>\n",
       "      <td>1014</td>\n",
       "      <td>101</td>\n",
       "      <td>1</td>\n",
       "      <td>1</td>\n",
       "      <td>0</td>\n",
       "      <td>P5</td>\n",
       "      <td>-0.06316</td>\n",
       "      <td>1</td>\n",
       "      <td>0</td>\n",
       "      <td>0</td>\n",
       "      <td>0</td>\n",
       "      <td>0</td>\n",
       "      <td>1.0</td>\n",
       "      <td>10.0</td>\n",
       "      <td>Fanti</td>\n",
       "      <td>6.0</td>\n",
       "      <td>2.0</td>\n",
       "      <td>0</td>\n",
       "      <td>No</td>\n",
       "      <td>No</td>\n",
       "      <td>0.0</td>\n",
       "      <td>0</td>\n",
       "      <td>0</td>\n",
       "      <td>No</td>\n",
       "      <td>0.0</td>\n",
       "      <td>No</td>\n",
       "      <td>0.0</td>\n",
       "      <td>0.280608</td>\n",
       "      <td>-0.592948</td>\n",
       "      <td>-0.492400</td>\n",
       "      <td>0.790053</td>\n",
       "      <td>1</td>\n",
       "      <td>-1.868931</td>\n",
       "      <td>-0.833853</td>\n",
       "      <td>0.375475</td>\n",
       "      <td>-0.650386</td>\n",
       "      <td>1.900146</td>\n",
       "      <td>-0.012530</td>\n",
       "    </tr>\n",
       "    <tr>\n",
       "      <th>4</th>\n",
       "      <td>1015</td>\n",
       "      <td>101</td>\n",
       "      <td>1</td>\n",
       "      <td>1</td>\n",
       "      <td>0</td>\n",
       "      <td>P5</td>\n",
       "      <td>-0.06316</td>\n",
       "      <td>1</td>\n",
       "      <td>0</td>\n",
       "      <td>0</td>\n",
       "      <td>0</td>\n",
       "      <td>0</td>\n",
       "      <td>1.0</td>\n",
       "      <td>13.0</td>\n",
       "      <td>Fanti</td>\n",
       "      <td>7.0</td>\n",
       "      <td>2.0</td>\n",
       "      <td>1</td>\n",
       "      <td>No</td>\n",
       "      <td>No</td>\n",
       "      <td>0.0</td>\n",
       "      <td>0</td>\n",
       "      <td>0</td>\n",
       "      <td>No</td>\n",
       "      <td>0.0</td>\n",
       "      <td>No</td>\n",
       "      <td>0.0</td>\n",
       "      <td>0.494285</td>\n",
       "      <td>-0.592948</td>\n",
       "      <td>-0.492400</td>\n",
       "      <td>0.790053</td>\n",
       "      <td>1</td>\n",
       "      <td>0.024145</td>\n",
       "      <td>-0.010213</td>\n",
       "      <td>-1.307112</td>\n",
       "      <td>-0.405488</td>\n",
       "      <td>-0.292870</td>\n",
       "      <td>-3.023953</td>\n",
       "    </tr>\n",
       "  </tbody>\n",
       "</table>\n",
       "</div>"
      ],
      "text/plain": [
       "   uuid  schid  noattrit  aflatoun  hmb class  std_avg_class_size  region1  \\\n",
       "0  1011    101         1         1    0    P5            -0.06316        1   \n",
       "1  1012    101         1         1    0    P5            -0.06316        1   \n",
       "2  1013    101         1         1    0    P5            -0.06316        1   \n",
       "3  1014    101         1         1    0    P5            -0.06316        1   \n",
       "4  1015    101         1         1    0    P5            -0.06316        1   \n",
       "\n",
       "   region2  region3 urban gender  female   age  tribe  hhsize  hhearn  \\\n",
       "0        0        0     0   Male     0.0  10.0  Akyem     6.0     1.0   \n",
       "1        0        0     0   Male     0.0  12.0  Other     7.0     2.0   \n",
       "2        0        0     0   Male     0.0  13.0  Fanti     3.0     1.0   \n",
       "3        0        0     0      0     1.0  10.0  Fanti     6.0     2.0   \n",
       "4        0        0     0      0     1.0  13.0  Fanti     7.0     2.0   \n",
       "\n",
       "   hhbankaccounts repeated_grade baseline_save  baseline_saveamt  \\\n",
       "0               0             No           Yes               2.3   \n",
       "1               0             No            No               0.0   \n",
       "2               0             No            No               0.0   \n",
       "3               0             No            No               0.0   \n",
       "4               1             No            No               0.0   \n",
       "\n",
       "   takeupschool  takeup end_save  end_saveamt end_saveschl  end_saveschlamt  \\\n",
       "0             0       0       No          0.0           No              0.0   \n",
       "1             0       0      Yes          1.4           No              0.0   \n",
       "2             0       0       No          0.0           No              0.0   \n",
       "3             0       0       No          0.0           No              0.0   \n",
       "4             0       0       No          0.0           No              0.0   \n",
       "\n",
       "   asset_index  work_index  riskpref_index  timepref_index  treatment  \\\n",
       "0    -0.460591   -0.592948       -0.492400        0.790053          1   \n",
       "1    -0.338644   -0.592948        2.029718       -1.265019          1   \n",
       "2    -1.229701    3.404489       -0.492400        0.790053          1   \n",
       "3     0.280608   -0.592948       -0.492400        0.790053          1   \n",
       "4     0.494285   -0.592948       -0.492400        0.790053          1   \n",
       "\n",
       "   saving_attitude_index  saving_env_index  fin_lit_index  tempt_index  \\\n",
       "0               0.024145          0.222919       0.442896    -0.650386   \n",
       "1               0.024145         -0.222388       1.256745     0.114838   \n",
       "2               0.024145         -0.667696      -1.069514    -0.650386   \n",
       "3              -1.868931         -0.833853       0.375475    -0.650386   \n",
       "4               0.024145         -0.010213      -1.307112    -0.405488   \n",
       "\n",
       "   expend_index  academic_index  \n",
       "0     -0.138709       -0.012530  \n",
       "1     -0.058629       -0.765385  \n",
       "2      1.871038       -1.827975  \n",
       "3      1.900146       -0.012530  \n",
       "4     -0.292870       -3.023953  "
      ]
     },
     "execution_count": 4,
     "metadata": {},
     "output_type": "execute_result"
    }
   ],
   "source": [
    "# Explore Dataframe:\n",
    "df.head(5)"
   ]
  },
  {
   "cell_type": "code",
   "execution_count": 5,
   "metadata": {},
   "outputs": [
    {
     "name": "stderr",
     "output_type": "stream",
     "text": [
      "/var/folders/19/wnvvqvbn0vggq7k70tjwn4y40000gn/T/ipykernel_57452/2919056982.py:5: FutureWarning: Downcasting behavior in `replace` is deprecated and will be removed in a future version. To retain the old behavior, explicitly call `result.infer_objects(copy=False)`. To opt-in to the future behavior, set `pd.set_option('future.no_silent_downcasting', True)`\n",
      "  df['baseline_save'] = df['baseline_save'].replace('Yes', 1)\n"
     ]
    }
   ],
   "source": [
    "# Clean up data\n",
    "\n",
    "# Change baseline_save responses from string to integer\n",
    "df['baseline_save'] = df['baseline_save'].replace('No', 0)\n",
    "df['baseline_save'] = df['baseline_save'].replace('Yes', 1)\n",
    "\n",
    "# Change noattrit empty cells to 0\n",
    "df['noattrit'] = df['noattrit'].replace('No', 0)\n",
    "\n",
    "# Create Control Group dataframe\n",
    "control_group = df[df['treatment'] == 0]\n",
    "\n",
    "# Create Aflatoun Group dataframe\n",
    "aflatoun_group = df[df['aflatoun'] == 1]\n",
    "\n",
    "# Create Honesty Money Box Group dataframe\n",
    "honesty_money_box_group = df[df['hmb'] == 1]"
   ]
  },
  {
   "cell_type": "markdown",
   "metadata": {},
   "source": [
    "### Create Summary Statistics Table"
   ]
  },
  {
   "cell_type": "code",
   "execution_count": 6,
   "metadata": {},
   "outputs": [],
   "source": [
    "# Function to create the summary table\n",
    "\n",
    "def create_summary_table(df, group_name):\n",
    "\n",
    "    # Select columns to aggregate\n",
    "    columns_to_aggregate = [\n",
    "        'female',\n",
    "        'age',\n",
    "        'baseline_save',\n",
    "        'baseline_saveamt',\n",
    "        'saving_attitude_index',\n",
    "        'saving_env_index',\n",
    "        'work_index',\n",
    "        'riskpref_index',\n",
    "        'timepref_index',\n",
    "        'fin_lit_index',\n",
    "        'tempt_index',\n",
    "        'expend_index',\n",
    "        'academic_index',\n",
    "        'noattrit',\n",
    "        'end_saveamt',\n",
    "    ]\n",
    "\n",
    "    # Calculate mean and standard deviation\n",
    "    summary_table = df[columns_to_aggregate].agg(['mean', 'std'])\n",
    "\n",
    "    # Rename columns to match target table format\n",
    "    summary_table.rename(columns={\n",
    "        'female': 'Female',\n",
    "        'age': 'Age',\n",
    "        'baseline_save': 'Student Has Money Saved',\n",
    "        'baseline_saveamt': 'Amount Saved',\n",
    "        'saving_attitude_index': 'Saving Attitudes Index',\n",
    "        'saving_env_index': 'Home Savings Support Index',\n",
    "        'work_index': 'Work Index',\n",
    "        'riskpref_index': 'Risk Preference Index',\n",
    "        'timepref_index': 'Time Preference Index',\n",
    "        'fin_lit_index': 'Financial Literacy Index',\n",
    "        'tempt_index': 'Expenditures on Temptation Goods Index',\n",
    "        'expend_index': 'Expenditures on Self Index',\n",
    "        'academic_index': 'Academic Index',\n",
    "        'noattrit': 'Completed Endline Survey',\n",
    "        'end_saveamt': 'Amount Saved at Endline',\n",
    "    }, inplace=True)\n",
    "\n",
    "    # Round values to 3 decimal places\n",
    "    summary_table_rounded = summary_table.round(3).transpose()\n",
    "    \n",
    "    # Add column header with group name\n",
    "    summary_table_rounded.columns = pd.MultiIndex.from_product([[group_name], ['mean', 'std']])\n",
    "    \n",
    "    # Return the complete summary table\n",
    "    return summary_table_rounded\n"
   ]
  },
  {
   "cell_type": "markdown",
   "metadata": {},
   "source": [
    "<a id=\"column-1-table\"></a>\n",
    "### Column 1 Table [*](#index)"
   ]
  },
  {
   "cell_type": "code",
   "execution_count": 7,
   "metadata": {},
   "outputs": [
    {
     "data": {
      "text/html": [
       "<div>\n",
       "<style scoped>\n",
       "    .dataframe tbody tr th:only-of-type {\n",
       "        vertical-align: middle;\n",
       "    }\n",
       "\n",
       "    .dataframe tbody tr th {\n",
       "        vertical-align: top;\n",
       "    }\n",
       "\n",
       "    .dataframe thead tr th {\n",
       "        text-align: left;\n",
       "    }\n",
       "</style>\n",
       "<table border=\"1\" class=\"dataframe\">\n",
       "  <thead>\n",
       "    <tr>\n",
       "      <th></th>\n",
       "      <th colspan=\"2\" halign=\"left\">Control Group</th>\n",
       "    </tr>\n",
       "    <tr>\n",
       "      <th></th>\n",
       "      <th>mean</th>\n",
       "      <th>std</th>\n",
       "    </tr>\n",
       "  </thead>\n",
       "  <tbody>\n",
       "    <tr>\n",
       "      <th>Female</th>\n",
       "      <td>0.500</td>\n",
       "      <td>0.500</td>\n",
       "    </tr>\n",
       "    <tr>\n",
       "      <th>Age</th>\n",
       "      <td>12.806</td>\n",
       "      <td>1.989</td>\n",
       "    </tr>\n",
       "    <tr>\n",
       "      <th>Student Has Money Saved</th>\n",
       "      <td>0.467</td>\n",
       "      <td>0.499</td>\n",
       "    </tr>\n",
       "    <tr>\n",
       "      <th>Amount Saved</th>\n",
       "      <td>5.041</td>\n",
       "      <td>17.966</td>\n",
       "    </tr>\n",
       "    <tr>\n",
       "      <th>Saving Attitudes Index</th>\n",
       "      <td>-0.000</td>\n",
       "      <td>1.000</td>\n",
       "    </tr>\n",
       "    <tr>\n",
       "      <th>Home Savings Support Index</th>\n",
       "      <td>-0.000</td>\n",
       "      <td>1.000</td>\n",
       "    </tr>\n",
       "    <tr>\n",
       "      <th>Work Index</th>\n",
       "      <td>-0.000</td>\n",
       "      <td>1.000</td>\n",
       "    </tr>\n",
       "    <tr>\n",
       "      <th>Risk Preference Index</th>\n",
       "      <td>-0.000</td>\n",
       "      <td>1.000</td>\n",
       "    </tr>\n",
       "    <tr>\n",
       "      <th>Time Preference Index</th>\n",
       "      <td>-0.000</td>\n",
       "      <td>1.000</td>\n",
       "    </tr>\n",
       "    <tr>\n",
       "      <th>Financial Literacy Index</th>\n",
       "      <td>0.000</td>\n",
       "      <td>1.000</td>\n",
       "    </tr>\n",
       "    <tr>\n",
       "      <th>Expenditures on Temptation Goods Index</th>\n",
       "      <td>-0.000</td>\n",
       "      <td>1.000</td>\n",
       "    </tr>\n",
       "    <tr>\n",
       "      <th>Expenditures on Self Index</th>\n",
       "      <td>0.000</td>\n",
       "      <td>1.000</td>\n",
       "    </tr>\n",
       "    <tr>\n",
       "      <th>Academic Index</th>\n",
       "      <td>-0.000</td>\n",
       "      <td>1.000</td>\n",
       "    </tr>\n",
       "    <tr>\n",
       "      <th>Completed Endline Survey</th>\n",
       "      <td>0.986</td>\n",
       "      <td>0.116</td>\n",
       "    </tr>\n",
       "    <tr>\n",
       "      <th>Amount Saved at Endline</th>\n",
       "      <td>9.121</td>\n",
       "      <td>38.553</td>\n",
       "    </tr>\n",
       "  </tbody>\n",
       "</table>\n",
       "</div>"
      ],
      "text/plain": [
       "                                       Control Group        \n",
       "                                                mean     std\n",
       "Female                                         0.500   0.500\n",
       "Age                                           12.806   1.989\n",
       "Student Has Money Saved                        0.467   0.499\n",
       "Amount Saved                                   5.041  17.966\n",
       "Saving Attitudes Index                        -0.000   1.000\n",
       "Home Savings Support Index                    -0.000   1.000\n",
       "Work Index                                    -0.000   1.000\n",
       "Risk Preference Index                         -0.000   1.000\n",
       "Time Preference Index                         -0.000   1.000\n",
       "Financial Literacy Index                       0.000   1.000\n",
       "Expenditures on Temptation Goods Index        -0.000   1.000\n",
       "Expenditures on Self Index                     0.000   1.000\n",
       "Academic Index                                -0.000   1.000\n",
       "Completed Endline Survey                       0.986   0.116\n",
       "Amount Saved at Endline                        9.121  38.553"
      ]
     },
     "execution_count": 7,
     "metadata": {},
     "output_type": "execute_result"
    }
   ],
   "source": [
    "control_group_summary = create_summary_table(control_group, \"Control Group\")\n",
    "control_group_summary"
   ]
  },
  {
   "cell_type": "markdown",
   "metadata": {},
   "source": [
    "<a id=\"column-23-table\"></a>\n",
    "### Column 2 & 3 Table [*](#index)"
   ]
  },
  {
   "cell_type": "code",
   "execution_count": 8,
   "metadata": {},
   "outputs": [],
   "source": [
    "# Create summary tables of test groups\n",
    "\n",
    "# Aflatoun Group\n",
    "aflatoun_group_summary = create_summary_table(aflatoun_group, \"Aflatoun\")\n",
    "\n",
    "# Honesty Money Box Group\n",
    "honesty_money_box_group_summary = create_summary_table(honesty_money_box_group, \"HMB\")\n",
    "\n",
    "# Concatenate Control, Aflatoun, and Honesty Money Box Group Tables\n",
    "summary_table_concatenated = pd.concat([control_group_summary, aflatoun_group_summary, honesty_money_box_group_summary], axis=1)\n",
    "\n",
    "# Copy the table to create the graph\n",
    "summary_table_concatenated_graph = summary_table_concatenated.copy()\n",
    "\n",
    "#summary_table_concatenated"
   ]
  },
  {
   "cell_type": "code",
   "execution_count": 9,
   "metadata": {},
   "outputs": [],
   "source": [
    "# Calculate difference between Aflatoun and Control Group: means and and standard deviations\n",
    "# Save result in new columns\n",
    "summary_table_concatenated[('Difference Aflatoun', 'mean')] = summary_table_concatenated[('Aflatoun', 'mean')] -summary_table_concatenated[('Control Group', 'mean')]\n",
    "summary_table_concatenated[('Difference Aflatoun', 'std')] = summary_table_concatenated[('Aflatoun', 'std')] - summary_table_concatenated[('Control Group', 'std')]\n",
    "\n",
    "# Calculate difference between Honesty Money Box and Control Group: means and and standard deviations\n",
    "# Save result in new columns\n",
    "summary_table_concatenated[('Difference HMB', 'mean')] = summary_table_concatenated[('HMB', 'mean')] -summary_table_concatenated[('Control Group', 'mean')]\n",
    "summary_table_concatenated[('Difference HMB', 'std')] = summary_table_concatenated[('HMB', 'std')] - summary_table_concatenated[('Control Group', 'std')]\n",
    "\n",
    "#summary_table_concatenated"
   ]
  },
  {
   "cell_type": "code",
   "execution_count": 10,
   "metadata": {},
   "outputs": [
    {
     "name": "stderr",
     "output_type": "stream",
     "text": [
      "/var/folders/19/wnvvqvbn0vggq7k70tjwn4y40000gn/T/ipykernel_57452/3690782845.py:2: PerformanceWarning: dropping on a non-lexsorted multi-index without a level parameter may impact performance.\n",
      "  summary_table_concatenated = summary_table_concatenated.drop(columns=['Aflatoun', 'HMB'])\n"
     ]
    },
    {
     "data": {
      "text/html": [
       "<div>\n",
       "<style scoped>\n",
       "    .dataframe tbody tr th:only-of-type {\n",
       "        vertical-align: middle;\n",
       "    }\n",
       "\n",
       "    .dataframe tbody tr th {\n",
       "        vertical-align: top;\n",
       "    }\n",
       "\n",
       "    .dataframe thead tr th {\n",
       "        text-align: left;\n",
       "    }\n",
       "</style>\n",
       "<table border=\"1\" class=\"dataframe\">\n",
       "  <thead>\n",
       "    <tr>\n",
       "      <th></th>\n",
       "      <th colspan=\"2\" halign=\"left\">Control Group</th>\n",
       "      <th colspan=\"2\" halign=\"left\">Difference Aflatoun</th>\n",
       "      <th colspan=\"2\" halign=\"left\">Difference HMB</th>\n",
       "    </tr>\n",
       "    <tr>\n",
       "      <th></th>\n",
       "      <th>mean</th>\n",
       "      <th>std</th>\n",
       "      <th>mean</th>\n",
       "      <th>std</th>\n",
       "      <th>mean</th>\n",
       "      <th>std</th>\n",
       "    </tr>\n",
       "  </thead>\n",
       "  <tbody>\n",
       "    <tr>\n",
       "      <th>Female</th>\n",
       "      <td>0.500</td>\n",
       "      <td>0.500</td>\n",
       "      <td>-0.003</td>\n",
       "      <td>0.000</td>\n",
       "      <td>-0.020</td>\n",
       "      <td>0.000</td>\n",
       "    </tr>\n",
       "    <tr>\n",
       "      <th>Age</th>\n",
       "      <td>12.806</td>\n",
       "      <td>1.989</td>\n",
       "      <td>0.240</td>\n",
       "      <td>0.099</td>\n",
       "      <td>-0.068</td>\n",
       "      <td>0.253</td>\n",
       "    </tr>\n",
       "    <tr>\n",
       "      <th>Student Has Money Saved</th>\n",
       "      <td>0.467</td>\n",
       "      <td>0.499</td>\n",
       "      <td>-0.040</td>\n",
       "      <td>-0.004</td>\n",
       "      <td>-0.006</td>\n",
       "      <td>0.000</td>\n",
       "    </tr>\n",
       "    <tr>\n",
       "      <th>Amount Saved</th>\n",
       "      <td>5.041</td>\n",
       "      <td>17.966</td>\n",
       "      <td>-0.917</td>\n",
       "      <td>-3.385</td>\n",
       "      <td>-0.286</td>\n",
       "      <td>9.860</td>\n",
       "    </tr>\n",
       "    <tr>\n",
       "      <th>Saving Attitudes Index</th>\n",
       "      <td>-0.000</td>\n",
       "      <td>1.000</td>\n",
       "      <td>0.075</td>\n",
       "      <td>-0.041</td>\n",
       "      <td>0.004</td>\n",
       "      <td>-0.017</td>\n",
       "    </tr>\n",
       "    <tr>\n",
       "      <th>Home Savings Support Index</th>\n",
       "      <td>-0.000</td>\n",
       "      <td>1.000</td>\n",
       "      <td>-0.015</td>\n",
       "      <td>0.005</td>\n",
       "      <td>0.024</td>\n",
       "      <td>-0.040</td>\n",
       "    </tr>\n",
       "    <tr>\n",
       "      <th>Work Index</th>\n",
       "      <td>-0.000</td>\n",
       "      <td>1.000</td>\n",
       "      <td>-0.102</td>\n",
       "      <td>-0.082</td>\n",
       "      <td>0.017</td>\n",
       "      <td>-0.027</td>\n",
       "    </tr>\n",
       "    <tr>\n",
       "      <th>Risk Preference Index</th>\n",
       "      <td>-0.000</td>\n",
       "      <td>1.000</td>\n",
       "      <td>0.037</td>\n",
       "      <td>0.028</td>\n",
       "      <td>0.072</td>\n",
       "      <td>0.051</td>\n",
       "    </tr>\n",
       "    <tr>\n",
       "      <th>Time Preference Index</th>\n",
       "      <td>-0.000</td>\n",
       "      <td>1.000</td>\n",
       "      <td>0.013</td>\n",
       "      <td>-0.003</td>\n",
       "      <td>0.008</td>\n",
       "      <td>-0.002</td>\n",
       "    </tr>\n",
       "    <tr>\n",
       "      <th>Financial Literacy Index</th>\n",
       "      <td>0.000</td>\n",
       "      <td>1.000</td>\n",
       "      <td>0.053</td>\n",
       "      <td>-0.143</td>\n",
       "      <td>0.016</td>\n",
       "      <td>-0.094</td>\n",
       "    </tr>\n",
       "    <tr>\n",
       "      <th>Expenditures on Temptation Goods Index</th>\n",
       "      <td>-0.000</td>\n",
       "      <td>1.000</td>\n",
       "      <td>-0.114</td>\n",
       "      <td>-0.127</td>\n",
       "      <td>-0.047</td>\n",
       "      <td>0.027</td>\n",
       "    </tr>\n",
       "    <tr>\n",
       "      <th>Expenditures on Self Index</th>\n",
       "      <td>0.000</td>\n",
       "      <td>1.000</td>\n",
       "      <td>-0.001</td>\n",
       "      <td>-0.134</td>\n",
       "      <td>0.054</td>\n",
       "      <td>0.585</td>\n",
       "    </tr>\n",
       "    <tr>\n",
       "      <th>Academic Index</th>\n",
       "      <td>-0.000</td>\n",
       "      <td>1.000</td>\n",
       "      <td>0.016</td>\n",
       "      <td>-0.057</td>\n",
       "      <td>-0.066</td>\n",
       "      <td>0.023</td>\n",
       "    </tr>\n",
       "    <tr>\n",
       "      <th>Completed Endline Survey</th>\n",
       "      <td>0.986</td>\n",
       "      <td>0.116</td>\n",
       "      <td>0.000</td>\n",
       "      <td>0.001</td>\n",
       "      <td>0.001</td>\n",
       "      <td>-0.001</td>\n",
       "    </tr>\n",
       "    <tr>\n",
       "      <th>Amount Saved at Endline</th>\n",
       "      <td>9.121</td>\n",
       "      <td>38.553</td>\n",
       "      <td>-0.680</td>\n",
       "      <td>-7.163</td>\n",
       "      <td>-1.204</td>\n",
       "      <td>-4.726</td>\n",
       "    </tr>\n",
       "  </tbody>\n",
       "</table>\n",
       "</div>"
      ],
      "text/plain": [
       "                                       Control Group          \\\n",
       "                                                mean     std   \n",
       "Female                                         0.500   0.500   \n",
       "Age                                           12.806   1.989   \n",
       "Student Has Money Saved                        0.467   0.499   \n",
       "Amount Saved                                   5.041  17.966   \n",
       "Saving Attitudes Index                        -0.000   1.000   \n",
       "Home Savings Support Index                    -0.000   1.000   \n",
       "Work Index                                    -0.000   1.000   \n",
       "Risk Preference Index                         -0.000   1.000   \n",
       "Time Preference Index                         -0.000   1.000   \n",
       "Financial Literacy Index                       0.000   1.000   \n",
       "Expenditures on Temptation Goods Index        -0.000   1.000   \n",
       "Expenditures on Self Index                     0.000   1.000   \n",
       "Academic Index                                -0.000   1.000   \n",
       "Completed Endline Survey                       0.986   0.116   \n",
       "Amount Saved at Endline                        9.121  38.553   \n",
       "\n",
       "                                       Difference Aflatoun         \\\n",
       "                                                      mean    std   \n",
       "Female                                              -0.003  0.000   \n",
       "Age                                                  0.240  0.099   \n",
       "Student Has Money Saved                             -0.040 -0.004   \n",
       "Amount Saved                                        -0.917 -3.385   \n",
       "Saving Attitudes Index                               0.075 -0.041   \n",
       "Home Savings Support Index                          -0.015  0.005   \n",
       "Work Index                                          -0.102 -0.082   \n",
       "Risk Preference Index                                0.037  0.028   \n",
       "Time Preference Index                                0.013 -0.003   \n",
       "Financial Literacy Index                             0.053 -0.143   \n",
       "Expenditures on Temptation Goods Index              -0.114 -0.127   \n",
       "Expenditures on Self Index                          -0.001 -0.134   \n",
       "Academic Index                                       0.016 -0.057   \n",
       "Completed Endline Survey                             0.000  0.001   \n",
       "Amount Saved at Endline                             -0.680 -7.163   \n",
       "\n",
       "                                       Difference HMB         \n",
       "                                                 mean    std  \n",
       "Female                                         -0.020  0.000  \n",
       "Age                                            -0.068  0.253  \n",
       "Student Has Money Saved                        -0.006  0.000  \n",
       "Amount Saved                                   -0.286  9.860  \n",
       "Saving Attitudes Index                          0.004 -0.017  \n",
       "Home Savings Support Index                      0.024 -0.040  \n",
       "Work Index                                      0.017 -0.027  \n",
       "Risk Preference Index                           0.072  0.051  \n",
       "Time Preference Index                           0.008 -0.002  \n",
       "Financial Literacy Index                        0.016 -0.094  \n",
       "Expenditures on Temptation Goods Index         -0.047  0.027  \n",
       "Expenditures on Self Index                      0.054  0.585  \n",
       "Academic Index                                 -0.066  0.023  \n",
       "Completed Endline Survey                        0.001 -0.001  \n",
       "Amount Saved at Endline                        -1.204 -4.726  "
      ]
     },
     "execution_count": 10,
     "metadata": {},
     "output_type": "execute_result"
    }
   ],
   "source": [
    "# Drop columns with group Aflatoun and HMB\n",
    "summary_table_concatenated = summary_table_concatenated.drop(columns=['Aflatoun', 'HMB'])\n",
    "\n",
    "# Display final summary table\n",
    "summary_table_concatenated"
   ]
  },
  {
   "cell_type": "markdown",
   "metadata": {},
   "source": [
    "### The end of 4 hour limit was reached here\n",
    "\n",
    "#### I continued a bit more... "
   ]
  },
  {
   "cell_type": "markdown",
   "metadata": {},
   "source": [
    "<a id=\"amount-saved-graph\"></a>\n",
    "### Graph: Difference in amount saved at school at endline [*](#index)"
   ]
  },
  {
   "cell_type": "code",
   "execution_count": 11,
   "metadata": {},
   "outputs": [
    {
     "data": {
      "text/html": [
       "<div>\n",
       "<style scoped>\n",
       "    .dataframe tbody tr th:only-of-type {\n",
       "        vertical-align: middle;\n",
       "    }\n",
       "\n",
       "    .dataframe tbody tr th {\n",
       "        vertical-align: top;\n",
       "    }\n",
       "\n",
       "    .dataframe thead th {\n",
       "        text-align: right;\n",
       "    }\n",
       "</style>\n",
       "<table border=\"1\" class=\"dataframe\">\n",
       "  <thead>\n",
       "    <tr style=\"text-align: right;\">\n",
       "      <th></th>\n",
       "      <th></th>\n",
       "      <th>Amount Saved</th>\n",
       "      <th>Amount Saved at Endline</th>\n",
       "    </tr>\n",
       "  </thead>\n",
       "  <tbody>\n",
       "    <tr>\n",
       "      <th rowspan=\"2\" valign=\"top\">Control Group</th>\n",
       "      <th>mean</th>\n",
       "      <td>5.041</td>\n",
       "      <td>9.121</td>\n",
       "    </tr>\n",
       "    <tr>\n",
       "      <th>std</th>\n",
       "      <td>17.966</td>\n",
       "      <td>38.553</td>\n",
       "    </tr>\n",
       "    <tr>\n",
       "      <th rowspan=\"2\" valign=\"top\">Aflatoun</th>\n",
       "      <th>mean</th>\n",
       "      <td>4.124</td>\n",
       "      <td>8.441</td>\n",
       "    </tr>\n",
       "    <tr>\n",
       "      <th>std</th>\n",
       "      <td>14.581</td>\n",
       "      <td>31.390</td>\n",
       "    </tr>\n",
       "    <tr>\n",
       "      <th rowspan=\"2\" valign=\"top\">HMB</th>\n",
       "      <th>mean</th>\n",
       "      <td>4.755</td>\n",
       "      <td>7.917</td>\n",
       "    </tr>\n",
       "    <tr>\n",
       "      <th>std</th>\n",
       "      <td>27.826</td>\n",
       "      <td>33.827</td>\n",
       "    </tr>\n",
       "  </tbody>\n",
       "</table>\n",
       "</div>"
      ],
      "text/plain": [
       "                    Amount Saved  Amount Saved at Endline\n",
       "Control Group mean         5.041                    9.121\n",
       "              std         17.966                   38.553\n",
       "Aflatoun      mean         4.124                    8.441\n",
       "              std         14.581                   31.390\n",
       "HMB           mean         4.755                    7.917\n",
       "              std         27.826                   33.827"
      ]
     },
     "execution_count": 11,
     "metadata": {},
     "output_type": "execute_result"
    }
   ],
   "source": [
    "# Keep only relevant rows from the table\n",
    "rows_to_keep = ['Amount Saved', 'Amount Saved at Endline']\n",
    "summary_table_concatenated_graph = summary_table_concatenated_graph.loc[rows_to_keep]\n",
    "\n",
    "# Transpose the table so indepentend variables are displayed as columnds\n",
    "summary_table_concatenated_graph = summary_table_concatenated_graph.transpose()\n",
    "\n",
    "# Display the table\n",
    "summary_table_concatenated_graph\n"
   ]
  },
  {
   "cell_type": "code",
   "execution_count": 12,
   "metadata": {},
   "outputs": [
    {
     "data": {
      "application/vnd.plotly.v1+json": {
       "config": {
        "plotlyServerURL": "https://plot.ly"
       },
       "data": [
        {
         "name": "Amount Saved at Start",
         "type": "bar",
         "x": [
          "Control Group",
          "Aflatoun",
          "HMB"
         ],
         "y": [
          5.041,
          4.124,
          4.755
         ]
        },
        {
         "name": "Amount Saved at End",
         "type": "bar",
         "x": [
          "Control Group",
          "Aflatoun",
          "HMB"
         ],
         "y": [
          9.121,
          8.441,
          7.917
         ]
        }
       ],
       "layout": {
        "barmode": "group",
        "template": {
         "data": {
          "bar": [
           {
            "error_x": {
             "color": "#2a3f5f"
            },
            "error_y": {
             "color": "#2a3f5f"
            },
            "marker": {
             "line": {
              "color": "#E5ECF6",
              "width": 0.5
             },
             "pattern": {
              "fillmode": "overlay",
              "size": 10,
              "solidity": 0.2
             }
            },
            "type": "bar"
           }
          ],
          "barpolar": [
           {
            "marker": {
             "line": {
              "color": "#E5ECF6",
              "width": 0.5
             },
             "pattern": {
              "fillmode": "overlay",
              "size": 10,
              "solidity": 0.2
             }
            },
            "type": "barpolar"
           }
          ],
          "carpet": [
           {
            "aaxis": {
             "endlinecolor": "#2a3f5f",
             "gridcolor": "white",
             "linecolor": "white",
             "minorgridcolor": "white",
             "startlinecolor": "#2a3f5f"
            },
            "baxis": {
             "endlinecolor": "#2a3f5f",
             "gridcolor": "white",
             "linecolor": "white",
             "minorgridcolor": "white",
             "startlinecolor": "#2a3f5f"
            },
            "type": "carpet"
           }
          ],
          "choropleth": [
           {
            "colorbar": {
             "outlinewidth": 0,
             "ticks": ""
            },
            "type": "choropleth"
           }
          ],
          "contour": [
           {
            "colorbar": {
             "outlinewidth": 0,
             "ticks": ""
            },
            "colorscale": [
             [
              0,
              "#0d0887"
             ],
             [
              0.1111111111111111,
              "#46039f"
             ],
             [
              0.2222222222222222,
              "#7201a8"
             ],
             [
              0.3333333333333333,
              "#9c179e"
             ],
             [
              0.4444444444444444,
              "#bd3786"
             ],
             [
              0.5555555555555556,
              "#d8576b"
             ],
             [
              0.6666666666666666,
              "#ed7953"
             ],
             [
              0.7777777777777778,
              "#fb9f3a"
             ],
             [
              0.8888888888888888,
              "#fdca26"
             ],
             [
              1,
              "#f0f921"
             ]
            ],
            "type": "contour"
           }
          ],
          "contourcarpet": [
           {
            "colorbar": {
             "outlinewidth": 0,
             "ticks": ""
            },
            "type": "contourcarpet"
           }
          ],
          "heatmap": [
           {
            "colorbar": {
             "outlinewidth": 0,
             "ticks": ""
            },
            "colorscale": [
             [
              0,
              "#0d0887"
             ],
             [
              0.1111111111111111,
              "#46039f"
             ],
             [
              0.2222222222222222,
              "#7201a8"
             ],
             [
              0.3333333333333333,
              "#9c179e"
             ],
             [
              0.4444444444444444,
              "#bd3786"
             ],
             [
              0.5555555555555556,
              "#d8576b"
             ],
             [
              0.6666666666666666,
              "#ed7953"
             ],
             [
              0.7777777777777778,
              "#fb9f3a"
             ],
             [
              0.8888888888888888,
              "#fdca26"
             ],
             [
              1,
              "#f0f921"
             ]
            ],
            "type": "heatmap"
           }
          ],
          "heatmapgl": [
           {
            "colorbar": {
             "outlinewidth": 0,
             "ticks": ""
            },
            "colorscale": [
             [
              0,
              "#0d0887"
             ],
             [
              0.1111111111111111,
              "#46039f"
             ],
             [
              0.2222222222222222,
              "#7201a8"
             ],
             [
              0.3333333333333333,
              "#9c179e"
             ],
             [
              0.4444444444444444,
              "#bd3786"
             ],
             [
              0.5555555555555556,
              "#d8576b"
             ],
             [
              0.6666666666666666,
              "#ed7953"
             ],
             [
              0.7777777777777778,
              "#fb9f3a"
             ],
             [
              0.8888888888888888,
              "#fdca26"
             ],
             [
              1,
              "#f0f921"
             ]
            ],
            "type": "heatmapgl"
           }
          ],
          "histogram": [
           {
            "marker": {
             "pattern": {
              "fillmode": "overlay",
              "size": 10,
              "solidity": 0.2
             }
            },
            "type": "histogram"
           }
          ],
          "histogram2d": [
           {
            "colorbar": {
             "outlinewidth": 0,
             "ticks": ""
            },
            "colorscale": [
             [
              0,
              "#0d0887"
             ],
             [
              0.1111111111111111,
              "#46039f"
             ],
             [
              0.2222222222222222,
              "#7201a8"
             ],
             [
              0.3333333333333333,
              "#9c179e"
             ],
             [
              0.4444444444444444,
              "#bd3786"
             ],
             [
              0.5555555555555556,
              "#d8576b"
             ],
             [
              0.6666666666666666,
              "#ed7953"
             ],
             [
              0.7777777777777778,
              "#fb9f3a"
             ],
             [
              0.8888888888888888,
              "#fdca26"
             ],
             [
              1,
              "#f0f921"
             ]
            ],
            "type": "histogram2d"
           }
          ],
          "histogram2dcontour": [
           {
            "colorbar": {
             "outlinewidth": 0,
             "ticks": ""
            },
            "colorscale": [
             [
              0,
              "#0d0887"
             ],
             [
              0.1111111111111111,
              "#46039f"
             ],
             [
              0.2222222222222222,
              "#7201a8"
             ],
             [
              0.3333333333333333,
              "#9c179e"
             ],
             [
              0.4444444444444444,
              "#bd3786"
             ],
             [
              0.5555555555555556,
              "#d8576b"
             ],
             [
              0.6666666666666666,
              "#ed7953"
             ],
             [
              0.7777777777777778,
              "#fb9f3a"
             ],
             [
              0.8888888888888888,
              "#fdca26"
             ],
             [
              1,
              "#f0f921"
             ]
            ],
            "type": "histogram2dcontour"
           }
          ],
          "mesh3d": [
           {
            "colorbar": {
             "outlinewidth": 0,
             "ticks": ""
            },
            "type": "mesh3d"
           }
          ],
          "parcoords": [
           {
            "line": {
             "colorbar": {
              "outlinewidth": 0,
              "ticks": ""
             }
            },
            "type": "parcoords"
           }
          ],
          "pie": [
           {
            "automargin": true,
            "type": "pie"
           }
          ],
          "scatter": [
           {
            "fillpattern": {
             "fillmode": "overlay",
             "size": 10,
             "solidity": 0.2
            },
            "type": "scatter"
           }
          ],
          "scatter3d": [
           {
            "line": {
             "colorbar": {
              "outlinewidth": 0,
              "ticks": ""
             }
            },
            "marker": {
             "colorbar": {
              "outlinewidth": 0,
              "ticks": ""
             }
            },
            "type": "scatter3d"
           }
          ],
          "scattercarpet": [
           {
            "marker": {
             "colorbar": {
              "outlinewidth": 0,
              "ticks": ""
             }
            },
            "type": "scattercarpet"
           }
          ],
          "scattergeo": [
           {
            "marker": {
             "colorbar": {
              "outlinewidth": 0,
              "ticks": ""
             }
            },
            "type": "scattergeo"
           }
          ],
          "scattergl": [
           {
            "marker": {
             "colorbar": {
              "outlinewidth": 0,
              "ticks": ""
             }
            },
            "type": "scattergl"
           }
          ],
          "scattermapbox": [
           {
            "marker": {
             "colorbar": {
              "outlinewidth": 0,
              "ticks": ""
             }
            },
            "type": "scattermapbox"
           }
          ],
          "scatterpolar": [
           {
            "marker": {
             "colorbar": {
              "outlinewidth": 0,
              "ticks": ""
             }
            },
            "type": "scatterpolar"
           }
          ],
          "scatterpolargl": [
           {
            "marker": {
             "colorbar": {
              "outlinewidth": 0,
              "ticks": ""
             }
            },
            "type": "scatterpolargl"
           }
          ],
          "scatterternary": [
           {
            "marker": {
             "colorbar": {
              "outlinewidth": 0,
              "ticks": ""
             }
            },
            "type": "scatterternary"
           }
          ],
          "surface": [
           {
            "colorbar": {
             "outlinewidth": 0,
             "ticks": ""
            },
            "colorscale": [
             [
              0,
              "#0d0887"
             ],
             [
              0.1111111111111111,
              "#46039f"
             ],
             [
              0.2222222222222222,
              "#7201a8"
             ],
             [
              0.3333333333333333,
              "#9c179e"
             ],
             [
              0.4444444444444444,
              "#bd3786"
             ],
             [
              0.5555555555555556,
              "#d8576b"
             ],
             [
              0.6666666666666666,
              "#ed7953"
             ],
             [
              0.7777777777777778,
              "#fb9f3a"
             ],
             [
              0.8888888888888888,
              "#fdca26"
             ],
             [
              1,
              "#f0f921"
             ]
            ],
            "type": "surface"
           }
          ],
          "table": [
           {
            "cells": {
             "fill": {
              "color": "#EBF0F8"
             },
             "line": {
              "color": "white"
             }
            },
            "header": {
             "fill": {
              "color": "#C8D4E3"
             },
             "line": {
              "color": "white"
             }
            },
            "type": "table"
           }
          ]
         },
         "layout": {
          "annotationdefaults": {
           "arrowcolor": "#2a3f5f",
           "arrowhead": 0,
           "arrowwidth": 1
          },
          "autotypenumbers": "strict",
          "coloraxis": {
           "colorbar": {
            "outlinewidth": 0,
            "ticks": ""
           }
          },
          "colorscale": {
           "diverging": [
            [
             0,
             "#8e0152"
            ],
            [
             0.1,
             "#c51b7d"
            ],
            [
             0.2,
             "#de77ae"
            ],
            [
             0.3,
             "#f1b6da"
            ],
            [
             0.4,
             "#fde0ef"
            ],
            [
             0.5,
             "#f7f7f7"
            ],
            [
             0.6,
             "#e6f5d0"
            ],
            [
             0.7,
             "#b8e186"
            ],
            [
             0.8,
             "#7fbc41"
            ],
            [
             0.9,
             "#4d9221"
            ],
            [
             1,
             "#276419"
            ]
           ],
           "sequential": [
            [
             0,
             "#0d0887"
            ],
            [
             0.1111111111111111,
             "#46039f"
            ],
            [
             0.2222222222222222,
             "#7201a8"
            ],
            [
             0.3333333333333333,
             "#9c179e"
            ],
            [
             0.4444444444444444,
             "#bd3786"
            ],
            [
             0.5555555555555556,
             "#d8576b"
            ],
            [
             0.6666666666666666,
             "#ed7953"
            ],
            [
             0.7777777777777778,
             "#fb9f3a"
            ],
            [
             0.8888888888888888,
             "#fdca26"
            ],
            [
             1,
             "#f0f921"
            ]
           ],
           "sequentialminus": [
            [
             0,
             "#0d0887"
            ],
            [
             0.1111111111111111,
             "#46039f"
            ],
            [
             0.2222222222222222,
             "#7201a8"
            ],
            [
             0.3333333333333333,
             "#9c179e"
            ],
            [
             0.4444444444444444,
             "#bd3786"
            ],
            [
             0.5555555555555556,
             "#d8576b"
            ],
            [
             0.6666666666666666,
             "#ed7953"
            ],
            [
             0.7777777777777778,
             "#fb9f3a"
            ],
            [
             0.8888888888888888,
             "#fdca26"
            ],
            [
             1,
             "#f0f921"
            ]
           ]
          },
          "colorway": [
           "#636efa",
           "#EF553B",
           "#00cc96",
           "#ab63fa",
           "#FFA15A",
           "#19d3f3",
           "#FF6692",
           "#B6E880",
           "#FF97FF",
           "#FECB52"
          ],
          "font": {
           "color": "#2a3f5f"
          },
          "geo": {
           "bgcolor": "white",
           "lakecolor": "white",
           "landcolor": "#E5ECF6",
           "showlakes": true,
           "showland": true,
           "subunitcolor": "white"
          },
          "hoverlabel": {
           "align": "left"
          },
          "hovermode": "closest",
          "mapbox": {
           "style": "light"
          },
          "paper_bgcolor": "white",
          "plot_bgcolor": "#E5ECF6",
          "polar": {
           "angularaxis": {
            "gridcolor": "white",
            "linecolor": "white",
            "ticks": ""
           },
           "bgcolor": "#E5ECF6",
           "radialaxis": {
            "gridcolor": "white",
            "linecolor": "white",
            "ticks": ""
           }
          },
          "scene": {
           "xaxis": {
            "backgroundcolor": "#E5ECF6",
            "gridcolor": "white",
            "gridwidth": 2,
            "linecolor": "white",
            "showbackground": true,
            "ticks": "",
            "zerolinecolor": "white"
           },
           "yaxis": {
            "backgroundcolor": "#E5ECF6",
            "gridcolor": "white",
            "gridwidth": 2,
            "linecolor": "white",
            "showbackground": true,
            "ticks": "",
            "zerolinecolor": "white"
           },
           "zaxis": {
            "backgroundcolor": "#E5ECF6",
            "gridcolor": "white",
            "gridwidth": 2,
            "linecolor": "white",
            "showbackground": true,
            "ticks": "",
            "zerolinecolor": "white"
           }
          },
          "shapedefaults": {
           "line": {
            "color": "#2a3f5f"
           }
          },
          "ternary": {
           "aaxis": {
            "gridcolor": "white",
            "linecolor": "white",
            "ticks": ""
           },
           "baxis": {
            "gridcolor": "white",
            "linecolor": "white",
            "ticks": ""
           },
           "bgcolor": "#E5ECF6",
           "caxis": {
            "gridcolor": "white",
            "linecolor": "white",
            "ticks": ""
           }
          },
          "title": {
           "x": 0.05
          },
          "xaxis": {
           "automargin": true,
           "gridcolor": "white",
           "linecolor": "white",
           "ticks": "",
           "title": {
            "standoff": 15
           },
           "zerolinecolor": "white",
           "zerolinewidth": 2
          },
          "yaxis": {
           "automargin": true,
           "gridcolor": "white",
           "linecolor": "white",
           "ticks": "",
           "title": {
            "standoff": 15
           },
           "zerolinecolor": "white",
           "zerolinewidth": 2
          }
         }
        },
        "title": {
         "text": "Amount Saved at Start and Endline by Group"
        },
        "xaxis": {
         "title": {
          "text": "Group"
         }
        },
        "yaxis": {
         "title": {
          "text": "Amount Saved"
         }
        }
       }
      }
     },
     "metadata": {},
     "output_type": "display_data"
    }
   ],
   "source": [
    "\n",
    "# Extract mean values\n",
    "\n",
    "# Control Group\n",
    "control_mean_start = summary_table_concatenated_graph.loc[('Control Group', 'mean'), 'Amount Saved']\n",
    "control_mean_endline = summary_table_concatenated_graph.loc[('Control Group', 'mean'), 'Amount Saved at Endline']\n",
    "\n",
    "# Aflatoun Group\n",
    "aflatoun_mean_start = summary_table_concatenated_graph.loc[('Aflatoun', 'mean'), 'Amount Saved']\n",
    "aflatoun_mean_endline = summary_table_concatenated_graph.loc[('Aflatoun', 'mean'), 'Amount Saved at Endline']\n",
    "\n",
    "# Honest Money Box Group\n",
    "hmb_mean_start = summary_table_concatenated_graph.loc[('HMB', 'mean'), 'Amount Saved']\n",
    "hmb_mean_endline = summary_table_concatenated_graph.loc[('HMB', 'mean'), 'Amount Saved at Endline']\n",
    "\n",
    "# Create bar graph\n",
    "fig = go.Figure(data=[\n",
    "    go.Bar(name='Amount Saved at Start', x=['Control Group', 'Aflatoun', 'HMB'], y=[control_mean_start, aflatoun_mean_start, hmb_mean_start]),\n",
    "    go.Bar(name='Amount Saved at End', x=['Control Group', 'Aflatoun', 'HMB'], y=[control_mean_endline, aflatoun_mean_endline, hmb_mean_endline])\n",
    "])\n",
    "\n",
    "# Update layout\n",
    "fig.update_layout(\n",
    "    title='Amount Saved at Start and Endline by Group',\n",
    "    xaxis_title='Group',\n",
    "    yaxis_title='Amount Saved',\n",
    "    barmode='group'\n",
    ")\n",
    "\n",
    "# Show graph\n",
    "fig.show()"
   ]
  },
  {
   "cell_type": "markdown",
   "metadata": {},
   "source": [
    "<a id=\"amount-difference-graph\"></a>\n",
    "### Graph: Difference in amount saved between control group and treatment [*](#index)"
   ]
  },
  {
   "cell_type": "code",
   "execution_count": 13,
   "metadata": {},
   "outputs": [
    {
     "data": {
      "application/vnd.plotly.v1+json": {
       "config": {
        "plotlyServerURL": "https://plot.ly"
       },
       "data": [
        {
         "name": "Amount Saved at Start",
         "type": "bar",
         "x": [
          "Control Group",
          "Aflatoun",
          "HMB"
         ],
         "y": [
          4.08,
          4.317000000000001,
          3.162
         ]
        }
       ],
       "layout": {
        "annotations": [
         {
          "font": {
           "size": 12
          },
          "showarrow": false,
          "text": "1 USD = 15 Ghanaian Cedis",
          "x": 0,
          "xanchor": "left",
          "xref": "paper",
          "y": 1,
          "yanchor": "bottom",
          "yref": "paper"
         }
        ],
        "barmode": "group",
        "template": {
         "data": {
          "bar": [
           {
            "error_x": {
             "color": "#2a3f5f"
            },
            "error_y": {
             "color": "#2a3f5f"
            },
            "marker": {
             "line": {
              "color": "#E5ECF6",
              "width": 0.5
             },
             "pattern": {
              "fillmode": "overlay",
              "size": 10,
              "solidity": 0.2
             }
            },
            "type": "bar"
           }
          ],
          "barpolar": [
           {
            "marker": {
             "line": {
              "color": "#E5ECF6",
              "width": 0.5
             },
             "pattern": {
              "fillmode": "overlay",
              "size": 10,
              "solidity": 0.2
             }
            },
            "type": "barpolar"
           }
          ],
          "carpet": [
           {
            "aaxis": {
             "endlinecolor": "#2a3f5f",
             "gridcolor": "white",
             "linecolor": "white",
             "minorgridcolor": "white",
             "startlinecolor": "#2a3f5f"
            },
            "baxis": {
             "endlinecolor": "#2a3f5f",
             "gridcolor": "white",
             "linecolor": "white",
             "minorgridcolor": "white",
             "startlinecolor": "#2a3f5f"
            },
            "type": "carpet"
           }
          ],
          "choropleth": [
           {
            "colorbar": {
             "outlinewidth": 0,
             "ticks": ""
            },
            "type": "choropleth"
           }
          ],
          "contour": [
           {
            "colorbar": {
             "outlinewidth": 0,
             "ticks": ""
            },
            "colorscale": [
             [
              0,
              "#0d0887"
             ],
             [
              0.1111111111111111,
              "#46039f"
             ],
             [
              0.2222222222222222,
              "#7201a8"
             ],
             [
              0.3333333333333333,
              "#9c179e"
             ],
             [
              0.4444444444444444,
              "#bd3786"
             ],
             [
              0.5555555555555556,
              "#d8576b"
             ],
             [
              0.6666666666666666,
              "#ed7953"
             ],
             [
              0.7777777777777778,
              "#fb9f3a"
             ],
             [
              0.8888888888888888,
              "#fdca26"
             ],
             [
              1,
              "#f0f921"
             ]
            ],
            "type": "contour"
           }
          ],
          "contourcarpet": [
           {
            "colorbar": {
             "outlinewidth": 0,
             "ticks": ""
            },
            "type": "contourcarpet"
           }
          ],
          "heatmap": [
           {
            "colorbar": {
             "outlinewidth": 0,
             "ticks": ""
            },
            "colorscale": [
             [
              0,
              "#0d0887"
             ],
             [
              0.1111111111111111,
              "#46039f"
             ],
             [
              0.2222222222222222,
              "#7201a8"
             ],
             [
              0.3333333333333333,
              "#9c179e"
             ],
             [
              0.4444444444444444,
              "#bd3786"
             ],
             [
              0.5555555555555556,
              "#d8576b"
             ],
             [
              0.6666666666666666,
              "#ed7953"
             ],
             [
              0.7777777777777778,
              "#fb9f3a"
             ],
             [
              0.8888888888888888,
              "#fdca26"
             ],
             [
              1,
              "#f0f921"
             ]
            ],
            "type": "heatmap"
           }
          ],
          "heatmapgl": [
           {
            "colorbar": {
             "outlinewidth": 0,
             "ticks": ""
            },
            "colorscale": [
             [
              0,
              "#0d0887"
             ],
             [
              0.1111111111111111,
              "#46039f"
             ],
             [
              0.2222222222222222,
              "#7201a8"
             ],
             [
              0.3333333333333333,
              "#9c179e"
             ],
             [
              0.4444444444444444,
              "#bd3786"
             ],
             [
              0.5555555555555556,
              "#d8576b"
             ],
             [
              0.6666666666666666,
              "#ed7953"
             ],
             [
              0.7777777777777778,
              "#fb9f3a"
             ],
             [
              0.8888888888888888,
              "#fdca26"
             ],
             [
              1,
              "#f0f921"
             ]
            ],
            "type": "heatmapgl"
           }
          ],
          "histogram": [
           {
            "marker": {
             "pattern": {
              "fillmode": "overlay",
              "size": 10,
              "solidity": 0.2
             }
            },
            "type": "histogram"
           }
          ],
          "histogram2d": [
           {
            "colorbar": {
             "outlinewidth": 0,
             "ticks": ""
            },
            "colorscale": [
             [
              0,
              "#0d0887"
             ],
             [
              0.1111111111111111,
              "#46039f"
             ],
             [
              0.2222222222222222,
              "#7201a8"
             ],
             [
              0.3333333333333333,
              "#9c179e"
             ],
             [
              0.4444444444444444,
              "#bd3786"
             ],
             [
              0.5555555555555556,
              "#d8576b"
             ],
             [
              0.6666666666666666,
              "#ed7953"
             ],
             [
              0.7777777777777778,
              "#fb9f3a"
             ],
             [
              0.8888888888888888,
              "#fdca26"
             ],
             [
              1,
              "#f0f921"
             ]
            ],
            "type": "histogram2d"
           }
          ],
          "histogram2dcontour": [
           {
            "colorbar": {
             "outlinewidth": 0,
             "ticks": ""
            },
            "colorscale": [
             [
              0,
              "#0d0887"
             ],
             [
              0.1111111111111111,
              "#46039f"
             ],
             [
              0.2222222222222222,
              "#7201a8"
             ],
             [
              0.3333333333333333,
              "#9c179e"
             ],
             [
              0.4444444444444444,
              "#bd3786"
             ],
             [
              0.5555555555555556,
              "#d8576b"
             ],
             [
              0.6666666666666666,
              "#ed7953"
             ],
             [
              0.7777777777777778,
              "#fb9f3a"
             ],
             [
              0.8888888888888888,
              "#fdca26"
             ],
             [
              1,
              "#f0f921"
             ]
            ],
            "type": "histogram2dcontour"
           }
          ],
          "mesh3d": [
           {
            "colorbar": {
             "outlinewidth": 0,
             "ticks": ""
            },
            "type": "mesh3d"
           }
          ],
          "parcoords": [
           {
            "line": {
             "colorbar": {
              "outlinewidth": 0,
              "ticks": ""
             }
            },
            "type": "parcoords"
           }
          ],
          "pie": [
           {
            "automargin": true,
            "type": "pie"
           }
          ],
          "scatter": [
           {
            "fillpattern": {
             "fillmode": "overlay",
             "size": 10,
             "solidity": 0.2
            },
            "type": "scatter"
           }
          ],
          "scatter3d": [
           {
            "line": {
             "colorbar": {
              "outlinewidth": 0,
              "ticks": ""
             }
            },
            "marker": {
             "colorbar": {
              "outlinewidth": 0,
              "ticks": ""
             }
            },
            "type": "scatter3d"
           }
          ],
          "scattercarpet": [
           {
            "marker": {
             "colorbar": {
              "outlinewidth": 0,
              "ticks": ""
             }
            },
            "type": "scattercarpet"
           }
          ],
          "scattergeo": [
           {
            "marker": {
             "colorbar": {
              "outlinewidth": 0,
              "ticks": ""
             }
            },
            "type": "scattergeo"
           }
          ],
          "scattergl": [
           {
            "marker": {
             "colorbar": {
              "outlinewidth": 0,
              "ticks": ""
             }
            },
            "type": "scattergl"
           }
          ],
          "scattermapbox": [
           {
            "marker": {
             "colorbar": {
              "outlinewidth": 0,
              "ticks": ""
             }
            },
            "type": "scattermapbox"
           }
          ],
          "scatterpolar": [
           {
            "marker": {
             "colorbar": {
              "outlinewidth": 0,
              "ticks": ""
             }
            },
            "type": "scatterpolar"
           }
          ],
          "scatterpolargl": [
           {
            "marker": {
             "colorbar": {
              "outlinewidth": 0,
              "ticks": ""
             }
            },
            "type": "scatterpolargl"
           }
          ],
          "scatterternary": [
           {
            "marker": {
             "colorbar": {
              "outlinewidth": 0,
              "ticks": ""
             }
            },
            "type": "scatterternary"
           }
          ],
          "surface": [
           {
            "colorbar": {
             "outlinewidth": 0,
             "ticks": ""
            },
            "colorscale": [
             [
              0,
              "#0d0887"
             ],
             [
              0.1111111111111111,
              "#46039f"
             ],
             [
              0.2222222222222222,
              "#7201a8"
             ],
             [
              0.3333333333333333,
              "#9c179e"
             ],
             [
              0.4444444444444444,
              "#bd3786"
             ],
             [
              0.5555555555555556,
              "#d8576b"
             ],
             [
              0.6666666666666666,
              "#ed7953"
             ],
             [
              0.7777777777777778,
              "#fb9f3a"
             ],
             [
              0.8888888888888888,
              "#fdca26"
             ],
             [
              1,
              "#f0f921"
             ]
            ],
            "type": "surface"
           }
          ],
          "table": [
           {
            "cells": {
             "fill": {
              "color": "#EBF0F8"
             },
             "line": {
              "color": "white"
             }
            },
            "header": {
             "fill": {
              "color": "#C8D4E3"
             },
             "line": {
              "color": "white"
             }
            },
            "type": "table"
           }
          ]
         },
         "layout": {
          "annotationdefaults": {
           "arrowcolor": "#2a3f5f",
           "arrowhead": 0,
           "arrowwidth": 1
          },
          "autotypenumbers": "strict",
          "coloraxis": {
           "colorbar": {
            "outlinewidth": 0,
            "ticks": ""
           }
          },
          "colorscale": {
           "diverging": [
            [
             0,
             "#8e0152"
            ],
            [
             0.1,
             "#c51b7d"
            ],
            [
             0.2,
             "#de77ae"
            ],
            [
             0.3,
             "#f1b6da"
            ],
            [
             0.4,
             "#fde0ef"
            ],
            [
             0.5,
             "#f7f7f7"
            ],
            [
             0.6,
             "#e6f5d0"
            ],
            [
             0.7,
             "#b8e186"
            ],
            [
             0.8,
             "#7fbc41"
            ],
            [
             0.9,
             "#4d9221"
            ],
            [
             1,
             "#276419"
            ]
           ],
           "sequential": [
            [
             0,
             "#0d0887"
            ],
            [
             0.1111111111111111,
             "#46039f"
            ],
            [
             0.2222222222222222,
             "#7201a8"
            ],
            [
             0.3333333333333333,
             "#9c179e"
            ],
            [
             0.4444444444444444,
             "#bd3786"
            ],
            [
             0.5555555555555556,
             "#d8576b"
            ],
            [
             0.6666666666666666,
             "#ed7953"
            ],
            [
             0.7777777777777778,
             "#fb9f3a"
            ],
            [
             0.8888888888888888,
             "#fdca26"
            ],
            [
             1,
             "#f0f921"
            ]
           ],
           "sequentialminus": [
            [
             0,
             "#0d0887"
            ],
            [
             0.1111111111111111,
             "#46039f"
            ],
            [
             0.2222222222222222,
             "#7201a8"
            ],
            [
             0.3333333333333333,
             "#9c179e"
            ],
            [
             0.4444444444444444,
             "#bd3786"
            ],
            [
             0.5555555555555556,
             "#d8576b"
            ],
            [
             0.6666666666666666,
             "#ed7953"
            ],
            [
             0.7777777777777778,
             "#fb9f3a"
            ],
            [
             0.8888888888888888,
             "#fdca26"
            ],
            [
             1,
             "#f0f921"
            ]
           ]
          },
          "colorway": [
           "#636efa",
           "#EF553B",
           "#00cc96",
           "#ab63fa",
           "#FFA15A",
           "#19d3f3",
           "#FF6692",
           "#B6E880",
           "#FF97FF",
           "#FECB52"
          ],
          "font": {
           "color": "#2a3f5f"
          },
          "geo": {
           "bgcolor": "white",
           "lakecolor": "white",
           "landcolor": "#E5ECF6",
           "showlakes": true,
           "showland": true,
           "subunitcolor": "white"
          },
          "hoverlabel": {
           "align": "left"
          },
          "hovermode": "closest",
          "mapbox": {
           "style": "light"
          },
          "paper_bgcolor": "white",
          "plot_bgcolor": "#E5ECF6",
          "polar": {
           "angularaxis": {
            "gridcolor": "white",
            "linecolor": "white",
            "ticks": ""
           },
           "bgcolor": "#E5ECF6",
           "radialaxis": {
            "gridcolor": "white",
            "linecolor": "white",
            "ticks": ""
           }
          },
          "scene": {
           "xaxis": {
            "backgroundcolor": "#E5ECF6",
            "gridcolor": "white",
            "gridwidth": 2,
            "linecolor": "white",
            "showbackground": true,
            "ticks": "",
            "zerolinecolor": "white"
           },
           "yaxis": {
            "backgroundcolor": "#E5ECF6",
            "gridcolor": "white",
            "gridwidth": 2,
            "linecolor": "white",
            "showbackground": true,
            "ticks": "",
            "zerolinecolor": "white"
           },
           "zaxis": {
            "backgroundcolor": "#E5ECF6",
            "gridcolor": "white",
            "gridwidth": 2,
            "linecolor": "white",
            "showbackground": true,
            "ticks": "",
            "zerolinecolor": "white"
           }
          },
          "shapedefaults": {
           "line": {
            "color": "#2a3f5f"
           }
          },
          "ternary": {
           "aaxis": {
            "gridcolor": "white",
            "linecolor": "white",
            "ticks": ""
           },
           "baxis": {
            "gridcolor": "white",
            "linecolor": "white",
            "ticks": ""
           },
           "bgcolor": "#E5ECF6",
           "caxis": {
            "gridcolor": "white",
            "linecolor": "white",
            "ticks": ""
           }
          },
          "title": {
           "x": 0.05
          },
          "xaxis": {
           "automargin": true,
           "gridcolor": "white",
           "linecolor": "white",
           "ticks": "",
           "title": {
            "standoff": 15
           },
           "zerolinecolor": "white",
           "zerolinewidth": 2
          },
          "yaxis": {
           "automargin": true,
           "gridcolor": "white",
           "linecolor": "white",
           "ticks": "",
           "title": {
            "standoff": 15
           },
           "zerolinecolor": "white",
           "zerolinewidth": 2
          }
         }
        },
        "title": {
         "text": "Total Amount Saved by Group"
        },
        "xaxis": {
         "title": {
          "text": "Group"
         }
        },
        "yaxis": {
         "range": [
          0,
          15
         ],
         "title": {
          "text": "Amount Saved (Ghanaian Cedis)"
         }
        }
       }
      }
     },
     "metadata": {},
     "output_type": "display_data"
    }
   ],
   "source": [
    "# Calculate Difference in Amount Saved at Start and Endline\n",
    "control_amount_saved = control_mean_endline - control_mean_start\n",
    "aflatoun_amount_saved = aflatoun_mean_endline - aflatoun_mean_start\n",
    "hmb_amount_saved = hmb_mean_endline - hmb_mean_start\n",
    "\n",
    "# Create bar graph\n",
    "fig = go.Figure(data=[\n",
    "    go.Bar(name='Amount Saved at Start', x=['Control Group', 'Aflatoun', 'HMB'], y=[control_amount_saved, aflatoun_amount_saved, hmb_amount_saved]),\n",
    "])\n",
    "\n",
    "fig.update_layout(\n",
    "    title='Total Amount Saved by Group',\n",
    "    xaxis_title='Group',\n",
    "    yaxis_title='Amount Saved (Ghanaian Cedis)',\n",
    "    yaxis=dict(range=[0, 15]),\n",
    "    annotations=[\n",
    "        dict(\n",
    "            x=0, # 0 is left, 1 is right\n",
    "            y=1, # 0 is bottom, 1 is top\n",
    "            xref='paper', # means plotting area\n",
    "            yref='paper', # means plotting area\n",
    "            text='1 USD = 15 Ghanaian Cedis',\n",
    "            xanchor='left',\n",
    "            yanchor='bottom',\n",
    "            showarrow=False,\n",
    "            font=dict(size=12)\n",
    "        )\n",
    "    ],\n",
    "    barmode='group'\n",
    ")\n",
    "\n",
    "# Show graph\n",
    "fig.show()"
   ]
  },
  {
   "cell_type": "markdown",
   "metadata": {},
   "source": [
    "<a id=\"regression-model\"></a>\n",
    "### Model: Create a regression model [*](#index)"
   ]
  },
  {
   "cell_type": "markdown",
   "metadata": {},
   "source": [
    "Example of a Regression Model using scikit-learn library"
   ]
  },
  {
   "cell_type": "code",
   "execution_count": 14,
   "metadata": {},
   "outputs": [],
   "source": [
    "from sklearn.model_selection import train_test_split\n",
    "from sklearn.linear_model import LinearRegression\n",
    "from sklearn.metrics import mean_squared_error, r2_score"
   ]
  },
  {
   "cell_type": "code",
   "execution_count": 15,
   "metadata": {},
   "outputs": [],
   "source": [
    "# Load the dataset\n",
    "data = pd.read_csv('ghana_youth_savings.csv')\n"
   ]
  },
  {
   "cell_type": "code",
   "execution_count": 16,
   "metadata": {},
   "outputs": [],
   "source": [
    "# Determine relevant columns\n",
    "X = data[['aflatoun', 'hmb', 'treatment','baseline_saveamt', 'age', 'female',]]  # Define Independent variables\n",
    "y = data['end_saveamt']  # Dependent variable\n",
    "\n",
    "# Handle missing values if necessary\n",
    "X = X.fillna(0)\n",
    "y = y.fillna(0)\n",
    "\n",
    "# Split the dataset into training and testing sets\n",
    "X_train, X_test, y_train, y_test = train_test_split(X, y, test_size=0.2, random_state=42)\n"
   ]
  },
  {
   "cell_type": "code",
   "execution_count": 17,
   "metadata": {},
   "outputs": [
    {
     "name": "stdout",
     "output_type": "stream",
     "text": [
      "Coefficients: [-0.51377938 -0.20379203 -0.71757141  0.32551226  1.64705093 -0.86006079]\n",
      "Intercept: -12.937064336617532\n"
     ]
    }
   ],
   "source": [
    "# Initialize the model\n",
    "model = LinearRegression()\n",
    "\n",
    "# Fit the model to the training data\n",
    "model.fit(X_train, y_train)\n",
    "\n",
    "# Print the coefficients\n",
    "print(\"Coefficients:\", model.coef_)\n",
    "print(\"Intercept:\", model.intercept_)"
   ]
  },
  {
   "cell_type": "code",
   "execution_count": 18,
   "metadata": {},
   "outputs": [
    {
     "name": "stdout",
     "output_type": "stream",
     "text": [
      "Mean Squared Error (MSE): 423.50194981304026\n",
      "R-squared (R2): 0.06670807241909538\n"
     ]
    }
   ],
   "source": [
    "# Predict on the test set\n",
    "y_pred = model.predict(X_test)\n",
    "\n",
    "# Evaluate the model\n",
    "mse = mean_squared_error(y_test, y_pred)\n",
    "r2 = r2_score(y_test, y_pred)\n",
    "\n",
    "print(\"Mean Squared Error (MSE):\", mse)\n",
    "print(\"R-squared (R2):\", r2)"
   ]
  },
  {
   "cell_type": "markdown",
   "metadata": {},
   "source": [
    "Interpretation of Results (AI Generated)\n",
    "\n",
    "    Mean Squared Error (MSE):\n",
    "        Value: 423.50\n",
    "        Meaning:\n",
    "        MSE measures the average squared difference between the predicted and actual values. A lower MSE indicates better model performance. In this case, an MSE of 423.50 suggests that, on average, the squared prediction error for the amount saved (end_saveamt) is quite high, meaning the model's predictions are not very close to the actual values.\n",
    "        However, the interpretation of MSE depends on the scale of the dependent variable (end_saveamt). If the saved amounts range widely (e.g., between 0 and 1000), an MSE of 423 might be reasonable. If not, the model might need improvement.\n",
    "\n",
    "    R-squared (R²):\n",
    "        Value: 0.0667\n",
    "        Meaning:\n",
    "        R² explains how much of the variability in the dependent variable (end_saveamt) is explained by the independent variables (aflatoun, hmb, etc.).\n",
    "            A value of 0.0667 means only 6.67% of the variability in end_saveamt is explained by the model.\n",
    "            This is quite low, suggesting that the model is not capturing the relationship well, and there may be other unobserved factors driving end_saveamt."
   ]
  },
  {
   "cell_type": "markdown",
   "metadata": {},
   "source": [
    "<a id=\"ml-model\"></a>\n",
    "### Model: Describe how you would build a machine learning model [*](#index)\n"
   ]
  },
  {
   "cell_type": "markdown",
   "metadata": {},
   "source": [
    "##### Prepare data:\n",
    "\n",
    "- Encode categorical variables (e.g., gender, tribe, end_save, etc) to take boolean values\n",
    "- Handle missing values\n",
    "- Normalize or scale numerical features for regression analysis.\n",
    "\n",
    "##### Split data:\n",
    "\n",
    "- Training set\n",
    "- Validation set\n",
    "- Test sets\n",
    "\n",
    "##### Select appropriate model based on problem\n",
    "\n",
    "- Neural network for classification \n",
    "- Neural network for regression\n",
    "\n",
    "##### Define model parameters\n",
    "\n",
    "- Loss function to quantify prediction errors\n",
    "- Optimizer to adjust the model's weights\n",
    "\n",
    "##### Train model over multiple iterations\n",
    "\n",
    "##### Evaluate the model performance\n",
    "\n",
    "- Using unseen data\n",
    "- Adjust parameters\n",
    "\n",
    "##### Save for deployment\n"
   ]
  },
  {
   "cell_type": "markdown",
   "metadata": {},
   "source": [
    "<a id=\"advice\"></a>\n",
    "### How to provide an ongoing monitoring system of Aflatoun savings [*](#index)\n"
   ]
  },
  {
   "cell_type": "markdown",
   "metadata": {},
   "source": [
    "Q: How would you recommend setting up the data collection and data engineering\n",
    "to create an ongoing monitoring system for Aflatoun’s savings clubs? Assume that Aflatoun wants weekly\n",
    "reporting on savings groups participation and savings amounts."
   ]
  },
  {
   "cell_type": "markdown",
   "metadata": {},
   "source": [
    "A: Aflatoun could create a web application or mobile application that teachers could use in schools (If internet and computers or cellphones are available). It could have the necessary templates to track students saving deposits etc. It could help users compare how they are doing compared with other schools and could also report the data back to  Aflatoun in a way that it can use the feedback to improve its curriculum. If this is not available, perhaps standardized formats like Optical Mark Recognition, Checkboxes could be filled manually and then be transferred by someone visiting the schools on a periodic basis. "
   ]
  }
 ],
 "metadata": {
  "kernelspec": {
   "display_name": "venv",
   "language": "python",
   "name": "python3"
  },
  "language_info": {
   "codemirror_mode": {
    "name": "ipython",
    "version": 3
   },
   "file_extension": ".py",
   "mimetype": "text/x-python",
   "name": "python",
   "nbconvert_exporter": "python",
   "pygments_lexer": "ipython3",
   "version": "3.13.1"
  }
 },
 "nbformat": 4,
 "nbformat_minor": 2
}
